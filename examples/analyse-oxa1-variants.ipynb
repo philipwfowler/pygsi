{
 "cells": [
  {
   "cell_type": "code",
   "execution_count": null,
   "metadata": {},
   "outputs": [],
   "source": [
    "import pygsi, pandas\n",
    "\n",
    "# this gives us a neat progress bar\n",
    "from tqdm import tqdm\n",
    "\n",
    "%load_ext autoreload\n",
    "%autoreload 2"
   ]
  },
  {
   "cell_type": "code",
   "execution_count": null,
   "metadata": {},
   "outputs": [],
   "source": [
    "# the oxa1 gene as specified on http://bigsi.io\n",
    "oxa1_sequence=\"ATGAAAAACACAATACATATCAACTTCGCTATTTTTTTAATAATTGCAAATATTATCTACAGCAGCGCCAGTGCATCAACAGATATCTCTACTGTTGCATCTCCATTATTTGAAGGAACTGAAGGTTGTTTTTTACTTTACGATGCATCCACAAACGCTGAAATTGCTCAATTCAATAAAGCAAAGTGTGCAACGCAAATGGCACCAGATTCAACTTTCAAGATCGCATTATCACTTATGGCATTTGATGCGGAAATAATAGATCAGAAAACCATATTCAAATGGGATAAAACCCCCAAAGGAATGGAGATCTGGAACAGCAATCATACACCAAAGACGTGGATGCAATTTTCTGTTGTTTGGGTTTCGCAAGAAATAACCCAAAAAATTGGATTAAATAAAATCAAGAATTATCTCAAAGATTTTGATTATGGAAATCAAGACTTCTCTGGAGATAAAGAAAGAAACAACGGATTAACAGAAGCATGGCTCGAAAGTAGCTTAAAAATTTCACCAGAAGAACAAATTCAATTCCTGCGTAAAATTATTAATCACAATCTCCCAGTTAAAAACTCAGCCATAGAAAACACCATAGAGAACATGTATCTACAAGATCTGGATAATAGTACAAAACTGTATGGGAAAACTGGTGCAGGATTCACAGCAAATAGAACCTTACAAAACGGATGGTTTGAAGGGTTTATTATAAGCAAATCAGGACATAAATATGTTTTTGTGTCCGCACTTACAGGAAACTTGGGGTCGAATTTAACATCAAGCATAAAAGCCAAGAAAAATGCGATCACCATTCTAAACACACTAAATTTATAA\"\n",
    "\n",
    "print(\"OXA1 is %i bases and %i amino acids long\" % (len(oxa1_sequence),len(oxa1_sequence)/3))"
   ]
  },
  {
   "cell_type": "code",
   "execution_count": null,
   "metadata": {},
   "outputs": [],
   "source": [
    "# create an instance of the class by giving it the nucleotide sequence as a string\n",
    "oxa1=pygsi.NucleotideStretch(nucleotide_sequence=oxa1_sequence,\\\n",
    "                             gene_name=\"oxa1\",\\\n",
    "                             first_amino_acid_position=1,\\\n",
    "                             species_name=None)\n",
    "\n",
    "# note that as species_name is not specified, there will be no filtering based on\n",
    "# species and so all sequences will considered"
   ]
  },
  {
   "cell_type": "code",
   "execution_count": null,
   "metadata": {},
   "outputs": [],
   "source": [
    "# let's have a look at the summary\n",
    "print(oxa1)"
   ]
  },
  {
   "cell_type": "code",
   "execution_count": null,
   "metadata": {},
   "outputs": [],
   "source": [
    "# let's just look at a short stretch of the protein\n",
    "# these are amino acid positions\n",
    "# also remember, since we are querying bigsi with a triplet flanked by 30 bases on either side,\n",
    "# and here we are just using the gene, the first amino acid we can consider is 11 and the last is\n",
    "# N-10, which here is 266.\n",
    "\n",
    "for position in tqdm(range(228,231)):\n",
    "\n",
    "    # this form will permute each of the three positions in the triplet in turn \n",
    "    # with once for wildtype\n",
    "    # 4x3x3=36 possible combinations \n",
    "\n",
    "    for i in [1,2,3]:    \n",
    "        oxa1.permuate_position(position,triplet_position=i)\n",
    "\n",
    "    # alternatively, comment out the above two lines, and uncomment this line which\n",
    "    # instead considers ALL the possible triplets (incl. wt)\n",
    "    # 4^3 = 64 combinations\n",
    "\n",
    "    # oxa1.permuate_position(position)\n",
    "    \n",
    "    # save every 10 amino acids \n",
    "    if (position%10)==0:\n",
    "        oxa1.save(\"dat/oxa1-whole-1.npy\")\n",
    "        oxa1.df.to_csv(\"dat/oxa1-whole-1.csv\")    "
   ]
  },
  {
   "cell_type": "code",
   "execution_count": null,
   "metadata": {},
   "outputs": [],
   "source": [
    "# the data is stored in the class as a Pandas dataframe, which we can simply access via\n",
    "print(oxa1.df)\n",
    "print(oxa1.mutations)"
   ]
  },
  {
   "cell_type": "code",
   "execution_count": null,
   "metadata": {},
   "outputs": [],
   "source": [
    "print(oxa1.arrays[\"number_nucleotide_changes\"])\n",
    "print(oxa1.codons)\n",
    "print(oxa1.arrays[\"number_nucleotide_changes\"])"
   ]
  },
  {
   "cell_type": "code",
   "execution_count": null,
   "metadata": {},
   "outputs": [],
   "source": [
    "# save all the variables and arrays to a NPY file\n",
    "oxa1.save(\"dat/oxa1-whole-1.npy\")\n",
    "\n",
    "# save the Pandas dataset to a CSV and DTA file\n",
    "oxa1.df.to_csv(\"dat/oxa1-whole-1.csv\")\n",
    "oxa1.df.to_stata(\"dat/oxa1-whole-1.dta\")\n",
    "oxa1.mutations.to_pickle(\"dat/oxa1-whole-1-mutations.pkl\")\n",
    "oxa1.mutations.to_csv(\"dat/oxa1-whole-1-mutations.csv\")"
   ]
  },
  {
   "cell_type": "code",
   "execution_count": null,
   "metadata": {},
   "outputs": [],
   "source": [
    "oxa1.calculate_metrics(threshold=1)"
   ]
  }
 ],
 "metadata": {
  "kernelspec": {
   "display_name": "Python 3",
   "language": "python",
   "name": "python3"
  },
  "language_info": {
   "codemirror_mode": {
    "name": "ipython",
    "version": 3
   },
   "file_extension": ".py",
   "mimetype": "text/x-python",
   "name": "python",
   "nbconvert_exporter": "python",
   "pygments_lexer": "ipython3",
   "version": "3.5.6"
  }
 },
 "nbformat": 4,
 "nbformat_minor": 2
}
