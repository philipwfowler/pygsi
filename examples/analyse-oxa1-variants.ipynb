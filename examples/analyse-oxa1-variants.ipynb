{
 "cells": [
  {
   "cell_type": "code",
   "execution_count": 21,
   "metadata": {},
   "outputs": [
    {
     "name": "stdout",
     "output_type": "stream",
     "text": [
      "The autoreload extension is already loaded. To reload it, use:\n",
      "  %reload_ext autoreload\n"
     ]
    }
   ],
   "source": [
    "import pygsi, pandas\n",
    "\n",
    "# this gives us a neat progress bar\n",
    "from tqdm import tqdm\n",
    "\n",
    "%load_ext autoreload\n",
    "%autoreload 2"
   ]
  },
  {
   "cell_type": "code",
   "execution_count": 8,
   "metadata": {},
   "outputs": [
    {
     "name": "stdout",
     "output_type": "stream",
     "text": [
      "OXA1 is 831 bases and 277 amino acids long\n"
     ]
    }
   ],
   "source": [
    "# the oxa1 gene as specified on http://bigsi.io\n",
    "oxa1_sequence=\"ATGAAAAACACAATACATATCAACTTCGCTATTTTTTTAATAATTGCAAATATTATCTACAGCAGCGCCAGTGCATCAACAGATATCTCTACTGTTGCATCTCCATTATTTGAAGGAACTGAAGGTTGTTTTTTACTTTACGATGCATCCACAAACGCTGAAATTGCTCAATTCAATAAAGCAAAGTGTGCAACGCAAATGGCACCAGATTCAACTTTCAAGATCGCATTATCACTTATGGCATTTGATGCGGAAATAATAGATCAGAAAACCATATTCAAATGGGATAAAACCCCCAAAGGAATGGAGATCTGGAACAGCAATCATACACCAAAGACGTGGATGCAATTTTCTGTTGTTTGGGTTTCGCAAGAAATAACCCAAAAAATTGGATTAAATAAAATCAAGAATTATCTCAAAGATTTTGATTATGGAAATCAAGACTTCTCTGGAGATAAAGAAAGAAACAACGGATTAACAGAAGCATGGCTCGAAAGTAGCTTAAAAATTTCACCAGAAGAACAAATTCAATTCCTGCGTAAAATTATTAATCACAATCTCCCAGTTAAAAACTCAGCCATAGAAAACACCATAGAGAACATGTATCTACAAGATCTGGATAATAGTACAAAACTGTATGGGAAAACTGGTGCAGGATTCACAGCAAATAGAACCTTACAAAACGGATGGTTTGAAGGGTTTATTATAAGCAAATCAGGACATAAATATGTTTTTGTGTCCGCACTTACAGGAAACTTGGGGTCGAATTTAACATCAAGCATAAAAGCCAAGAAAAATGCGATCACCATTCTAAACACACTAAATTTATAA\"\n",
    "\n",
    "print(\"OXA1 is %i bases and %i amino acids long\" % (len(oxa1_sequence),len(oxa1_sequence)/3))"
   ]
  },
  {
   "cell_type": "code",
   "execution_count": 43,
   "metadata": {},
   "outputs": [],
   "source": [
    "# create an instance of the class by giving it the nucleotide sequence as a string\n",
    "oxa1=pygsi.NucleotideStretch(nucleotide_sequence=oxa1_sequence,\\\n",
    "                             gene_name=\"oxa1\",\\\n",
    "                             first_amino_acid_position=1,\\\n",
    "                             species_name=None)\n",
    "\n",
    "# note that as species_name is not specified, there will be no filtering based on\n",
    "# species and so all sequences will considered"
   ]
  },
  {
   "cell_type": "code",
   "execution_count": 44,
   "metadata": {},
   "outputs": [
    {
     "name": "stdout",
     "output_type": "stream",
     "text": [
      "Empty DataFrame\n",
      "Columns: [ena_accession, mutation, amino_acid_position, new_triplet, original_triplet]\n",
      "Index: []\n"
     ]
    }
   ],
   "source": [
    "# let's have a look at the summary\n",
    "print(oxa1.mutations)"
   ]
  },
  {
   "cell_type": "code",
   "execution_count": 45,
   "metadata": {},
   "outputs": [
    {
     "name": "stderr",
     "output_type": "stream",
     "text": [
      "100%|██████████| 3/3 [00:18<00:00,  6.19s/it]\n"
     ]
    }
   ],
   "source": [
    "# let's just look at a short stretch of the protein\n",
    "# these are amino acid positions\n",
    "# also remember, since we are querying bigsi with a triplet flanked by 30 bases on either side,\n",
    "# and here we are just using the gene, the first amino acid we can consider is 11 and the last is\n",
    "# N-10, which here is 266.\n",
    "\n",
    "for position in tqdm(range(228,231)):\n",
    "\n",
    "    # this form will permute each of the three positions in the triplet in turn \n",
    "    # with once for wildtype\n",
    "    # 4x3x3=36 possible combinations \n",
    "\n",
    "    for i in [1,2,3]:    \n",
    "        oxa1.permuate_position(position,triplet_position=i)\n",
    "\n",
    "    # alternatively, comment out the above two lines, and uncomment this line which\n",
    "    # instead considers ALL the possible triplets (incl. wt)\n",
    "    # 4^3 = 64 combinations\n",
    "\n",
    "    # oxa1.permuate_position(position)\n",
    "    \n",
    "    # save every 10 amino acids \n",
    "    if (position%10)==0:\n",
    "        oxa1.save(\"dat/oxa1-whole-1.npy\")\n",
    "        oxa1.df.to_csv(\"dat/oxa1-whole-1.csv\")    "
   ]
  },
  {
   "cell_type": "code",
   "execution_count": 49,
   "metadata": {},
   "outputs": [
    {
     "name": "stdout",
     "output_type": "stream",
     "text": [
      "   amino_acid_position mutation new_amino_acid new_triplet  non_synonymous  \\\n",
      "0                  230        -              W         tgg           False   \n",
      "1                  228        -              N         aac           False   \n",
      "2                  229    G229E              E         gaa            True   \n",
      "3                  229        -              G         gga           False   \n",
      "\n",
      "   number_genomes  number_nucleotide_changes original_amino_acid  \\\n",
      "0            7057                          0                   W   \n",
      "1            7074                          0                   N   \n",
      "2              14                          1                   G   \n",
      "3            7071                          0                   G   \n",
      "\n",
      "  original_triplet  synonymous  \n",
      "0              tgg        True  \n",
      "1              aac        True  \n",
      "2              gga       False  \n",
      "3              gga        True  \n",
      "   ena_accession mutation amino_acid_position new_triplet original_triplet\n",
      "0      ERR586863    G229E                 229         gaa              gga\n",
      "1      ERR591057    G229E                 229         gaa              gga\n",
      "2      ERR591224    G229E                 229         gaa              gga\n",
      "3      ERR586864    G229E                 229         gaa              gga\n",
      "4      ERR591046    G229E                 229         gaa              gga\n",
      "5      ERR591075    G229E                 229         gaa              gga\n",
      "6      ERR591279    G229E                 229         gaa              gga\n",
      "7      ERR591233    G229E                 229         gaa              gga\n",
      "8      ERR591223    G229E                 229         gaa              gga\n",
      "9      ERR591056    G229E                 229         gaa              gga\n",
      "10     ERR586850    G229E                 229         gaa              gga\n",
      "11     ERR590930    G229E                 229         gaa              gga\n",
      "12     ERR591238    G229E                 229         gaa              gga\n",
      "13     ERR591071    G229E                 229         gaa              gga\n"
     ]
    }
   ],
   "source": [
    "# the data is stored in the class as a Pandas dataframe, which we can simply access via\n",
    "print(oxa1.df)\n",
    "print(oxa1.mutations)"
   ]
  },
  {
   "cell_type": "code",
   "execution_count": 56,
   "metadata": {},
   "outputs": [
    {
     "name": "stdout",
     "output_type": "stream",
     "text": [
      "[[2. 3. 3. ... 2. 1. 2.]\n",
      " [2. 3. 2. ... 3. 1. 2.]\n",
      " [2. 2. 3. ... 3. 0. 1.]\n",
      " ...\n",
      " [3. 3. 2. ... 3. 3. 3.]\n",
      " [3. 2. 3. ... 3. 2. 2.]\n",
      " [2. 3. 3. ... 3. 3. 3.]]\n",
      "['ttt' 'ttc' 'tta' 'ttg' 'tct' 'tcc' 'tca' 'tcg' 'tat' 'tac' 'taa' 'tag'\n",
      " 'tgt' 'tgc' 'tga' 'tgg' 'ctt' 'ctc' 'cta' 'ctg' 'cct' 'ccc' 'cca' 'ccg'\n",
      " 'cat' 'cac' 'caa' 'cag' 'cgt' 'cgc' 'cga' 'cgg' 'att' 'atc' 'ata' 'atg'\n",
      " 'act' 'acc' 'aca' 'acg' 'aat' 'aac' 'aaa' 'aag' 'agt' 'agc' 'aga' 'agg'\n",
      " 'gtt' 'gtc' 'gta' 'gtg' 'gct' 'gcc' 'gca' 'gcg' 'gat' 'gac' 'gaa' 'gag'\n",
      " 'ggt' 'ggc' 'gga' 'ggg']\n"
     ]
    }
   ],
   "source": [
    "print(oxa1.arrays[\"number_nucleotide_changes\"])\n",
    "print(oxa1.codons)\n",
    "print(oxa1.arrays[\"number_nucleotide_changes\"])\n"
   ]
  },
  {
   "cell_type": "code",
   "execution_count": 48,
   "metadata": {},
   "outputs": [],
   "source": [
    "# save all the variables and arrays to a NPY file\n",
    "oxa1.save(\"dat/oxa1-whole-1.npy\")\n",
    "\n",
    "# save the Pandas dataset to a CSV and DTA file\n",
    "oxa1.df.to_csv(\"dat/oxa1-whole-1.csv\")\n",
    "oxa1.df.to_stata(\"dat/oxa1-whole-1.dta\")\n",
    "oxa1.mutations.to_pickle(\"dat/oxa1-whole-1-mutations.pkl\")\n",
    "oxa1.mutations.to_csv(\"dat/oxa1-whole-1-mutations.csv\")\n"
   ]
  },
  {
   "cell_type": "code",
   "execution_count": 31,
   "metadata": {},
   "outputs": [
    {
     "name": "stdout",
     "output_type": "stream",
     "text": [
      "Empty DataFrame\n",
      "Columns: [A, B]\n",
      "Index: []\n",
      "   A  B\n",
      "0  1  2\n",
      "1  1  2\n"
     ]
    }
   ],
   "source": [
    "a=pandas.DataFrame(columns=[\"A\",\"B\"])\n",
    "print(a)\n",
    "a=a.append({\"A\":1,\"B\":2},ignore_index=True)\n",
    "a=a.append({\"A\":1,\"B\":2},ignore_index=True)\n",
    "print(a)"
   ]
  }
 ],
 "metadata": {
  "kernelspec": {
   "display_name": "Python 3",
   "language": "python",
   "name": "python3"
  },
  "language_info": {
   "codemirror_mode": {
    "name": "ipython",
    "version": 3
   },
   "file_extension": ".py",
   "mimetype": "text/x-python",
   "name": "python",
   "nbconvert_exporter": "python",
   "pygments_lexer": "ipython3",
   "version": "3.5.4"
  }
 },
 "nbformat": 4,
 "nbformat_minor": 2
}
